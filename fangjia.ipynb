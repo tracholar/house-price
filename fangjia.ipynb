{
 "cells": [
  {
   "cell_type": "code",
   "execution_count": 152,
   "metadata": {
    "collapsed": false
   },
   "outputs": [],
   "source": [
    "import requests\n",
    "import lxml\n",
    "import Queue\n",
    "from lxml import etree\n",
    "from StringIO import StringIO\n",
    "import matplotlib.pyplot as plt\n",
    "import re\n",
    "import numpy as np\n",
    "\n",
    "%matplotlib inline"
   ]
  },
  {
   "cell_type": "code",
   "execution_count": 5,
   "metadata": {
    "collapsed": true
   },
   "outputs": [],
   "source": [
    "headers = {\n",
    "    'User-Agent' : 'Mozilla/5.0 (Macintosh; Intel Mac OS X 10_11_4) AppleWebKit/537.36 (KHTML, like Gecko) Chrome/53.0.2785.143 Safari/537.36'\n",
    "}"
   ]
  },
  {
   "cell_type": "code",
   "execution_count": 10,
   "metadata": {
    "collapsed": true
   },
   "outputs": [],
   "source": [
    "def get_dom_from_string(html):\n",
    "\ttry:\n",
    "\t\ttree = etree.parse(StringIO(html), etree.HTMLParser())\n",
    "\texcept Exception:\n",
    "\t\ttree = None\n",
    "\treturn tree"
   ]
  },
  {
   "cell_type": "code",
   "execution_count": 6,
   "metadata": {
    "collapsed": false
   },
   "outputs": [],
   "source": [
    "html = requests.get('http://bj.lianjia.com/ershoufang', headers=headers)"
   ]
  },
  {
   "cell_type": "code",
   "execution_count": 11,
   "metadata": {
    "collapsed": false
   },
   "outputs": [],
   "source": [
    "dom = get_dom_from_string(html.content)"
   ]
  },
  {
   "cell_type": "code",
   "execution_count": 20,
   "metadata": {
    "collapsed": false
   },
   "outputs": [],
   "source": [
    "lis = dom.findall('//li[@class=\"clear\"]')"
   ]
  },
  {
   "cell_type": "code",
   "execution_count": 22,
   "metadata": {
    "collapsed": false
   },
   "outputs": [],
   "source": [
    "li = lis[0]"
   ]
  },
  {
   "cell_type": "code",
   "execution_count": 74,
   "metadata": {
    "collapsed": false
   },
   "outputs": [
    {
     "data": {
      "text/plain": [
       "<Element a at 0x10e66fb90>"
      ]
     },
     "execution_count": 74,
     "metadata": {},
     "output_type": "execute_result"
    }
   ],
   "source": [
    "div = li.find('div/div[@class=\"title\"]/a')\n",
    "div"
   ]
  },
  {
   "cell_type": "code",
   "execution_count": 39,
   "metadata": {
    "collapsed": false
   },
   "outputs": [
    {
     "name": "stdout",
     "output_type": "stream",
     "text": [
      "<a href=\"http://bj.lianjia.com/ershoufang/101100762406.html\" target=\"_blank\" data-bl=\"list\" data-log_index=\"1\" data-el=\"ershoufang\">&#40857;&#27901;&#33489;&#35199;&#21306;&#20004;&#23621;&#23460;&#65292;&#21830;&#21697;&#25151;&#24050;&#32463;&#28385;&#20116;&#24180;&#65292;&#22909;&#25143;&#22411;</a>\n",
      "\n"
     ]
    }
   ],
   "source": [
    "print etree.tostring(div, pretty_print=True)"
   ]
  },
  {
   "cell_type": "code",
   "execution_count": 75,
   "metadata": {
    "collapsed": false
   },
   "outputs": [
    {
     "data": {
      "text/plain": [
       "u'\\u9f99\\u6cfd\\u82d1\\u897f\\u533a\\u4e24\\u5c45\\u5ba4\\uff0c\\u5546\\u54c1\\u623f\\u5df2\\u7ecf\\u6ee1\\u4e94\\u5e74\\uff0c\\u597d\\u6237\\u578b'"
      ]
     },
     "execution_count": 75,
     "metadata": {},
     "output_type": "execute_result"
    }
   ],
   "source": [
    "div.text"
   ]
  },
  {
   "cell_type": "code",
   "execution_count": 42,
   "metadata": {
    "collapsed": false
   },
   "outputs": [
    {
     "data": {
      "text/plain": [
       "'http://bj.lianjia.com/ershoufang/101100762406.html'"
      ]
     },
     "execution_count": 42,
     "metadata": {},
     "output_type": "execute_result"
    }
   ],
   "source": [
    "div.attrib['href']"
   ]
  },
  {
   "cell_type": "code",
   "execution_count": 52,
   "metadata": {
    "collapsed": true
   },
   "outputs": [],
   "source": [
    "div = li.find('div/div[@class=\"address\"]/div')"
   ]
  },
  {
   "cell_type": "code",
   "execution_count": 57,
   "metadata": {
    "collapsed": false
   },
   "outputs": [
    {
     "data": {
      "text/plain": [
       "u'\\u9f99\\u6cfd\\u82d1\\u897f\\u533a'"
      ]
     },
     "execution_count": 57,
     "metadata": {},
     "output_type": "execute_result"
    }
   ],
   "source": [
    "div.find('a').text"
   ]
  },
  {
   "cell_type": "code",
   "execution_count": 54,
   "metadata": {
    "collapsed": false
   },
   "outputs": [
    {
     "name": "stdout",
     "output_type": "stream",
     "text": [
      "<div class=\"houseInfo\"><span class=\"houseIcon\"/><a href=\"http://bj.lianjia.com/xiaoqu/1111027378235/\" target=\"_blank\" data-bl=\"list\" data-log_index=\"1\" data-el=\"region\">&#40857;&#27901;&#33489;&#35199;&#21306;</a> | 2&#23460;1&#21381; | 80.35&#24179;&#31859; | &#21335; &#21271; | &#31934;&#35013; | &#26080;&#30005;&#26799;</div>\n",
      "\n"
     ]
    }
   ],
   "source": [
    "print etree.tostring(div, pretty_print=True)"
   ]
  },
  {
   "cell_type": "code",
   "execution_count": 76,
   "metadata": {
    "collapsed": false
   },
   "outputs": [
    {
     "name": "stdout",
     "output_type": "stream",
     "text": [
      "龙泽苑西区两居室，商品房已经满五年，好户型\n"
     ]
    }
   ],
   "source": [
    "print dom_text_content(div)"
   ]
  },
  {
   "cell_type": "code",
   "execution_count": 65,
   "metadata": {
    "collapsed": false
   },
   "outputs": [],
   "source": [
    "def dom_text_content(elem):\n",
    "    import re\n",
    "    return re.sub(r'\\s+', '', etree.tostring(elem, method='text',encoding='unicode').strip())\n"
   ]
  },
  {
   "cell_type": "code",
   "execution_count": 72,
   "metadata": {
    "collapsed": false
   },
   "outputs": [
    {
     "name": "stdout",
     "output_type": "stream",
     "text": [
      "scraw URL: http://bj.lianjia.com/ershoufang/pg1/\n",
      "Traceback (most recent call last):\n",
      "  File \"./scraw.py\", line 95, in <module>\n",
      "    main()\n",
      "  File \"./scraw.py\", line 86, in main\n",
      "    handlers[url_type](url)\n",
      "  File \"./scraw.py\", line 75, in scraw_fangzi_info\n",
      "    save_data('\\t'.join(data) + '\\n')\n",
      "TypeError: sequence item 2: expected string or Unicode, NoneType found\n"
     ]
    }
   ],
   "source": [
    "!python ./scraw.py"
   ]
  },
  {
   "cell_type": "code",
   "execution_count": 78,
   "metadata": {
    "collapsed": true
   },
   "outputs": [],
   "source": [
    "import re\n",
    "def dom_text_content(elem, replace=''):\n",
    "    if elem is None:\n",
    "        return ''\n",
    "    return re.sub(r'\\s+', replace, etree.tostring(elem, method='text',encoding='unicode').strip())\n"
   ]
  },
  {
   "cell_type": "code",
   "execution_count": 80,
   "metadata": {
    "collapsed": false
   },
   "outputs": [
    {
     "name": "stdout",
     "output_type": "stream",
     "text": [
      "龙泽苑西区两居室，商品房已经满五年，好户型\n"
     ]
    }
   ],
   "source": [
    "print dom_text_content(div)"
   ]
  },
  {
   "cell_type": "code",
   "execution_count": 82,
   "metadata": {
    "collapsed": false
   },
   "outputs": [],
   "source": [
    "import pandas as pd"
   ]
  },
  {
   "cell_type": "code",
   "execution_count": 99,
   "metadata": {
    "collapsed": true
   },
   "outputs": [],
   "source": [
    "df = pd.read_csv('./data/res.csv', sep='\\t', header=None, names=['url', 'title','info','pos','follow','tag','price','unitprice'])"
   ]
  },
  {
   "cell_type": "code",
   "execution_count": 109,
   "metadata": {
    "collapsed": false
   },
   "outputs": [
    {
     "data": {
      "text/html": [
       "<div>\n",
       "<table border=\"1\" class=\"dataframe\">\n",
       "  <thead>\n",
       "    <tr style=\"text-align: right;\">\n",
       "      <th></th>\n",
       "      <th>url</th>\n",
       "      <th>title</th>\n",
       "      <th>info</th>\n",
       "      <th>pos</th>\n",
       "      <th>follow</th>\n",
       "      <th>tag</th>\n",
       "      <th>price</th>\n",
       "      <th>unitprice</th>\n",
       "      <th>price_num</th>\n",
       "    </tr>\n",
       "  </thead>\n",
       "  <tbody>\n",
       "    <tr>\n",
       "      <th>0</th>\n",
       "      <td>http://bj.lianjia.com/ershoufang/101100762406....</td>\n",
       "      <td>龙泽苑西区两居室，商品房已经满五年，好户型</td>\n",
       "      <td>龙泽苑西区|2室1厅|80.35平米|南北|精装|无电梯</td>\n",
       "      <td>低楼层(共6层)2000年建板楼-龙泽</td>\n",
       "      <td>120人关注/共50次带看/7天以前发布</td>\n",
       "      <td>距离13号线龙泽站428米房本满两年随时看房</td>\n",
       "      <td>460万</td>\n",
       "      <td>单价57250元/平米</td>\n",
       "      <td>460.0</td>\n",
       "    </tr>\n",
       "    <tr>\n",
       "      <th>1</th>\n",
       "      <td>http://bj.lianjia.com/ershoufang/101100671982....</td>\n",
       "      <td>新城经典东向大三居，高层观景 视野棒。满五年唯一 ！</td>\n",
       "      <td>望京新城|3室2厅|142.93平米|东南|精装|有电梯</td>\n",
       "      <td>高楼层(共25层)2000年建板塔结合-望京</td>\n",
       "      <td>127人关注/共44次带看/26天以前发布</td>\n",
       "      <td>距离15号线望京站517米房本满两年随时看房</td>\n",
       "      <td>865万</td>\n",
       "      <td>单价60520元/平米</td>\n",
       "      <td>865.0</td>\n",
       "    </tr>\n",
       "    <tr>\n",
       "      <th>2</th>\n",
       "      <td>http://bj.lianjia.com/ershoufang/101100672915....</td>\n",
       "      <td>东南金角 免税电梯花园洋房 居家养老宜居</td>\n",
       "      <td>东亚上北中心|2室1厅|77平米|东南|精装|有电梯</td>\n",
       "      <td>中楼层(共21层)2009年建板塔结合-回龙观</td>\n",
       "      <td>79人关注/共54次带看/26天以前发布</td>\n",
       "      <td>房本满两年随时看房不限购</td>\n",
       "      <td>306万</td>\n",
       "      <td>单价39741元/平米</td>\n",
       "      <td>306.0</td>\n",
       "    </tr>\n",
       "    <tr>\n",
       "      <th>3</th>\n",
       "      <td>http://bj.lianjia.com/ershoufang/101100755034....</td>\n",
       "      <td>朝阳园 二期小三居 满五年 高楼层 视野开阔 有钥匙</td>\n",
       "      <td>朝阳园|3室2厅|113.22平米|西|精装|有电梯</td>\n",
       "      <td>高楼层(共29层)2002年建塔楼-甘露园</td>\n",
       "      <td>92人关注/共31次带看/9天以前发布</td>\n",
       "      <td>距离6号线青年路站575米房本满两年随时看房</td>\n",
       "      <td>690万</td>\n",
       "      <td>单价60944元/平米</td>\n",
       "      <td>690.0</td>\n",
       "    </tr>\n",
       "    <tr>\n",
       "      <th>4</th>\n",
       "      <td>http://bj.lianjia.com/ershoufang/101100656261....</td>\n",
       "      <td>免税  东南双卫三居 带飘窗 随时看房诚意出售</td>\n",
       "      <td>苹果社区南区|3室1厅|124.58平米|东南|精装|有电梯</td>\n",
       "      <td>中楼层(共26层)2006年建板塔结合-双井</td>\n",
       "      <td>79人关注/共50次带看/30天以前发布</td>\n",
       "      <td>距离7号线九龙山站816米房本满两年随时看房</td>\n",
       "      <td>1060万</td>\n",
       "      <td>单价85086元/平米</td>\n",
       "      <td>1060.0</td>\n",
       "    </tr>\n",
       "  </tbody>\n",
       "</table>\n",
       "</div>"
      ],
      "text/plain": [
       "                                                 url  \\\n",
       "0  http://bj.lianjia.com/ershoufang/101100762406....   \n",
       "1  http://bj.lianjia.com/ershoufang/101100671982....   \n",
       "2  http://bj.lianjia.com/ershoufang/101100672915....   \n",
       "3  http://bj.lianjia.com/ershoufang/101100755034....   \n",
       "4  http://bj.lianjia.com/ershoufang/101100656261....   \n",
       "\n",
       "                        title                            info  \\\n",
       "0       龙泽苑西区两居室，商品房已经满五年，好户型    龙泽苑西区|2室1厅|80.35平米|南北|精装|无电梯   \n",
       "1  新城经典东向大三居，高层观景 视野棒。满五年唯一 ！    望京新城|3室2厅|142.93平米|东南|精装|有电梯   \n",
       "2        东南金角 免税电梯花园洋房 居家养老宜居      东亚上北中心|2室1厅|77平米|东南|精装|有电梯   \n",
       "3  朝阳园 二期小三居 满五年 高楼层 视野开阔 有钥匙      朝阳园|3室2厅|113.22平米|西|精装|有电梯   \n",
       "4     免税  东南双卫三居 带飘窗 随时看房诚意出售  苹果社区南区|3室1厅|124.58平米|东南|精装|有电梯   \n",
       "\n",
       "                       pos                 follow                     tag  \\\n",
       "0      低楼层(共6层)2000年建板楼-龙泽   120人关注/共50次带看/7天以前发布  距离13号线龙泽站428米房本满两年随时看房   \n",
       "1   高楼层(共25层)2000年建板塔结合-望京  127人关注/共44次带看/26天以前发布  距离15号线望京站517米房本满两年随时看房   \n",
       "2  中楼层(共21层)2009年建板塔结合-回龙观   79人关注/共54次带看/26天以前发布            房本满两年随时看房不限购   \n",
       "3    高楼层(共29层)2002年建塔楼-甘露园    92人关注/共31次带看/9天以前发布  距离6号线青年路站575米房本满两年随时看房   \n",
       "4   中楼层(共26层)2006年建板塔结合-双井   79人关注/共50次带看/30天以前发布  距离7号线九龙山站816米房本满两年随时看房   \n",
       "\n",
       "   price    unitprice  price_num  \n",
       "0   460万  单价57250元/平米      460.0  \n",
       "1   865万  单价60520元/平米      865.0  \n",
       "2   306万  单价39741元/平米      306.0  \n",
       "3   690万  单价60944元/平米      690.0  \n",
       "4  1060万  单价85086元/平米     1060.0  "
      ]
     },
     "execution_count": 109,
     "metadata": {},
     "output_type": "execute_result"
    }
   ],
   "source": [
    "df.head()"
   ]
  },
  {
   "cell_type": "code",
   "execution_count": 100,
   "metadata": {
    "collapsed": false,
    "scrolled": false
   },
   "outputs": [],
   "source": [
    "df['price_num'] = df.price.map(lambda x: float(x.replace(u'万'.encode('utf-8'),'')))"
   ]
  },
  {
   "cell_type": "code",
   "execution_count": 102,
   "metadata": {
    "collapsed": false
   },
   "outputs": [
    {
     "data": {
      "text/plain": [
       "578.12205387205393"
      ]
     },
     "execution_count": 102,
     "metadata": {},
     "output_type": "execute_result"
    }
   ],
   "source": [
    "df.price_num.mean()"
   ]
  },
  {
   "cell_type": "code",
   "execution_count": 107,
   "metadata": {
    "collapsed": false
   },
   "outputs": [
    {
     "data": {
      "text/plain": [
       "(0, 3000)"
      ]
     },
     "execution_count": 107,
     "metadata": {},
     "output_type": "execute_result"
    },
    {
     "data": {
      "image/png": "[encoded data removed]",
      "text/plain": [
       "<matplotlib.figure.Figure at 0x111078650>"
      ]
     },
     "metadata": {},
     "output_type": "display_data"
    }
   ],
   "source": [
    "df.price_num.plot(kind='hist',bins=100)\n",
    "plt.xlim([0, 3000])"
   ]
  },
  {
   "cell_type": "code",
   "execution_count": 108,
   "metadata": {
    "collapsed": false
   },
   "outputs": [
    {
     "data": {
      "text/plain": [
       "count    2970.000000\n",
       "mean      578.122054\n",
       "std       333.382576\n",
       "min       105.000000\n",
       "25%       385.000000\n",
       "50%       500.000000\n",
       "75%       664.500000\n",
       "max      8000.000000\n",
       "Name: price_num, dtype: float64"
      ]
     },
     "execution_count": 108,
     "metadata": {},
     "output_type": "execute_result"
    }
   ],
   "source": [
    "df.price_num.describe()"
   ]
  },
  {
   "cell_type": "code",
   "execution_count": 119,
   "metadata": {
    "collapsed": false
   },
   "outputs": [],
   "source": [
    "df['unitprice_num'] = df.unitprice.map(lambda x: float(re.search(r'\\d+', x).group()))"
   ]
  },
  {
   "cell_type": "code",
   "execution_count": 121,
   "metadata": {
    "collapsed": false
   },
   "outputs": [
    {
     "data": {
      "text/plain": [
       "count      2970.000000\n",
       "mean      61858.156229\n",
       "std       22183.682112\n",
       "min       19966.000000\n",
       "25%       45925.250000\n",
       "50%       57468.000000\n",
       "75%       76094.500000\n",
       "max      148838.000000\n",
       "Name: unitprice_num, dtype: float64"
      ]
     },
     "execution_count": 121,
     "metadata": {},
     "output_type": "execute_result"
    }
   ],
   "source": [
    "df.unitprice_num.describe()"
   ]
  },
  {
   "cell_type": "code",
   "execution_count": 123,
   "metadata": {
    "collapsed": false
   },
   "outputs": [
    {
     "data": {
      "text/plain": [
       "<matplotlib.axes.AxesSubplot at 0x11119abd0>"
      ]
     },
     "execution_count": 123,
     "metadata": {},
     "output_type": "execute_result"
    },
    {
     "data": {
      "image/png": "[encoded data removed]",
      "text/plain": [
       "<matplotlib.figure.Figure at 0x113f031d0>"
      ]
     },
     "metadata": {},
     "output_type": "display_data"
    }
   ],
   "source": [
    "df.unitprice_num.plot(kind='hist', bins=30)"
   ]
  },
  {
   "cell_type": "code",
   "execution_count": 133,
   "metadata": {
    "collapsed": false
   },
   "outputs": [],
   "source": [
    "df['xiaoqu'] = df['info'].map(lambda x: x.split('|')[0])\n",
    "df['fangxin'] = df['info'].map(lambda x: x.split('|')[1])\n",
    "df['area'] = df['info'].map(lambda x: float(x.split('|')[2].replace('平米','')))\n",
    "df['chaoxiang'] = df['info'].map(lambda x: x.split('|')[3])\n",
    "df['zhuangxiu'] = df['info'].map(lambda x: x.split('|')[4])\n",
    "df['dianti'] = df['info'].map(lambda x: x.split('|')[5])"
   ]
  },
  {
   "cell_type": "code",
   "execution_count": 134,
   "metadata": {
    "collapsed": false
   },
   "outputs": [
    {
     "data": {
      "text/plain": [
       "<matplotlib.axes.AxesSubplot at 0x1178cdb90>"
      ]
     },
     "execution_count": 134,
     "metadata": {},
     "output_type": "execute_result"
    },
    {
     "data": {
      "image/png": "[encoded data removed]",
      "text/plain": [
       "<matplotlib.figure.Figure at 0x1178ec090>"
      ]
     },
     "metadata": {},
     "output_type": "display_data"
    }
   ],
   "source": [
    "df.fangxin.value_counts().plot(kind='bar')"
   ]
  },
  {
   "cell_type": "code",
   "execution_count": 136,
   "metadata": {
    "collapsed": false
   },
   "outputs": [
    {
     "data": {
      "text/plain": [
       "天通西苑三区     29\n",
       "天通西苑二区     26\n",
       "新龙城        26\n",
       "星河皓月       24\n",
       "福城上上城五期    16\n",
       "天通苑中苑      16\n",
       "天通苑北三区     16\n",
       "美林湾        14\n",
       "天通苑东一区     14\n",
       "北京像素北区     13\n",
       "翠成馨园       12\n",
       "北苑家园望春园    12\n",
       "天通苑北一区     12\n",
       "北京人家       12\n",
       "流星花园三区     12\n",
       "东亚上北中心     12\n",
       "天通苑北二区     12\n",
       "北京北        11\n",
       "大方居        10\n",
       "天通苑东三区     10\n",
       "福城上上城三季     9\n",
       "荣丰2008      9\n",
       "华纺易城        8\n",
       "纳丹堡         8\n",
       "北苑家园茉藜园     8\n",
       "北京像素南区      8\n",
       "名佳花园三区      8\n",
       "福苑小区        8\n",
       "京贸国际公寓      8\n",
       "后现代城        8\n",
       "Name: xiaoqu, dtype: int64"
      ]
     },
     "execution_count": 136,
     "metadata": {},
     "output_type": "execute_result"
    }
   ],
   "source": [
    "df.xiaoqu.value_counts()[:30]"
   ]
  },
  {
   "cell_type": "code",
   "execution_count": 138,
   "metadata": {
    "collapsed": false
   },
   "outputs": [
    {
     "data": {
      "text/plain": [
       "南北        1413\n",
       "南          396\n",
       "东南         210\n",
       "西南         191\n",
       "东西         129\n",
       "东          111\n",
       "西           94\n",
       "西北          93\n",
       "东北          90\n",
       "北           58\n",
       "东南北         58\n",
       "南西北         34\n",
       "西南北         22\n",
       "南西          20\n",
       "东南西         13\n",
       "东南西北        12\n",
       "东西北          7\n",
       "西南东北         4\n",
       "南西南          2\n",
       "东南南          2\n",
       "东南东北         1\n",
       "北东南          1\n",
       "西西北北         1\n",
       "南北东          1\n",
       "东南西南         1\n",
       "东南西南西北       1\n",
       "北南           1\n",
       "东西南          1\n",
       "南北西          1\n",
       "西南西          1\n",
       "西南西西北        1\n",
       "Name: chaoxiang, dtype: int64"
      ]
     },
     "execution_count": 138,
     "metadata": {},
     "output_type": "execute_result"
    }
   ],
   "source": [
    "df.chaoxiang.value_counts()"
   ]
  },
  {
   "cell_type": "code",
   "execution_count": 141,
   "metadata": {
    "collapsed": false
   },
   "outputs": [
    {
     "data": {
      "text/plain": [
       "<matplotlib.axes.AxesSubplot at 0x117b24910>"
      ]
     },
     "execution_count": 141,
     "metadata": {},
     "output_type": "execute_result"
    },
    {
     "data": {
      "image/png": "[encoded data removed]",
      "text/plain": [
       "<matplotlib.figure.Figure at 0x117922c10>"
      ]
     },
     "metadata": {},
     "output_type": "display_data"
    }
   ],
   "source": [
    "df.area.plot(kind='hist',bins=40)"
   ]
  },
  {
   "cell_type": "code",
   "execution_count": 142,
   "metadata": {
    "collapsed": false
   },
   "outputs": [
    {
     "data": {
      "text/plain": [
       "count    2970.000000\n",
       "mean       95.849343\n",
       "std        41.301808\n",
       "min        23.790000\n",
       "25%        67.435000\n",
       "50%        89.000000\n",
       "75%       114.687500\n",
       "max       661.810000\n",
       "Name: area, dtype: float64"
      ]
     },
     "execution_count": 142,
     "metadata": {},
     "output_type": "execute_result"
    }
   ],
   "source": [
    "df.area.describe()"
   ]
  },
  {
   "cell_type": "code",
   "execution_count": 162,
   "metadata": {
    "collapsed": false
   },
   "outputs": [],
   "source": [
    "def dist_ditie(x):\n",
    "    #if type(x) is not str:\n",
    "    #    raise Exception('TypeError: %s' % str(type(x)))\n",
    "    s = re.search(r'距离.+?(\\d+)米', str(x))\n",
    "    if s is None:\n",
    "        return np.nan\n",
    "    else:\n",
    "        return float(s.groups()[0])\n",
    "df['ditie_juli'] = df['tag'].map(dist_ditie)"
   ]
  },
  {
   "cell_type": "code",
   "execution_count": 151,
   "metadata": {
    "collapsed": false
   },
   "outputs": [
    {
     "name": "stdout",
     "output_type": "stream",
     "text": [
      "('428',)\n"
     ]
    }
   ],
   "source": [
    "print re.search(r'距离.+?(\\d+)米', '距离13号线龙泽站428米房本满两年随时看房').groups()"
   ]
  },
  {
   "cell_type": "code",
   "execution_count": 165,
   "metadata": {
    "collapsed": true
   },
   "outputs": [],
   "source": [
    "df['ceng'] = df.pos.map(lambda x: int(re.search(r'共(\\d+)层', x).groups()[0]))"
   ]
  },
  {
   "cell_type": "code",
   "execution_count": 168,
   "metadata": {
    "collapsed": false
   },
   "outputs": [
    {
     "data": {
      "text/plain": [
       "<matplotlib.axes.AxesSubplot at 0x117f49dd0>"
      ]
     },
     "execution_count": 168,
     "metadata": {},
     "output_type": "execute_result"
    },
    {
     "data": {
      "image/png": "[encoded data removed]",
      "text/plain": [
       "<matplotlib.figure.Figure at 0x117de8dd0>"
      ]
     },
     "metadata": {},
     "output_type": "display_data"
    }
   ],
   "source": [
    "df.ditie_juli.plot(kind='hist', bins=20)"
   ]
  },
  {
   "cell_type": "code",
   "execution_count": 169,
   "metadata": {
    "collapsed": false
   },
   "outputs": [
    {
     "name": "stderr",
     "output_type": "stream",
     "text": [
      "/Library/Python/2.7/site-packages/numpy/lib/function_base.py:3834: RuntimeWarning: Invalid value encountered in percentile\n",
      "  RuntimeWarning)\n"
     ]
    },
    {
     "data": {
      "text/plain": [
       "count    2085.000000\n",
       "mean      618.351559\n",
       "std       287.206903\n",
       "min        19.000000\n",
       "25%              NaN\n",
       "50%              NaN\n",
       "75%              NaN\n",
       "max      1200.000000\n",
       "Name: ditie_juli, dtype: float64"
      ]
     },
     "execution_count": 169,
     "metadata": {},
     "output_type": "execute_result"
    }
   ],
   "source": [
    "df.ditie_juli.describe()"
   ]
  },
  {
   "cell_type": "code",
   "execution_count": 172,
   "metadata": {
    "collapsed": false
   },
   "outputs": [
    {
     "data": {
      "text/plain": [
       "<matplotlib.axes.AxesSubplot at 0x1182a2d90>"
      ]
     },
     "execution_count": 172,
     "metadata": {},
     "output_type": "execute_result"
    },
    {
     "data": {
      "image/png": "[encoded data removed]",
      "text/plain": [
       "<matplotlib.figure.Figure at 0x118121410>"
      ]
     },
     "metadata": {},
     "output_type": "display_data"
    }
   ],
   "source": [
    "df.ceng.plot(kind='hist', bins=30)"
   ]
  },
  {
   "cell_type": "code",
   "execution_count": 173,
   "metadata": {
    "collapsed": false
   },
   "outputs": [
    {
     "data": {
      "text/plain": [
       "count    2970.000000\n",
       "mean       13.648485\n",
       "std         8.063344\n",
       "min         2.000000\n",
       "25%         6.000000\n",
       "50%        12.000000\n",
       "75%        20.000000\n",
       "max        38.000000\n",
       "Name: ceng, dtype: float64"
      ]
     },
     "execution_count": 173,
     "metadata": {},
     "output_type": "execute_result"
    }
   ],
   "source": [
    "df.ceng.describe()"
   ]
  },
  {
   "cell_type": "code",
   "execution_count": 170,
   "metadata": {
    "collapsed": false
   },
   "outputs": [
    {
     "data": {
      "text/html": [
       "<div>\n",
       "<table border=\"1\" class=\"dataframe\">\n",
       "  <thead>\n",
       "    <tr style=\"text-align: right;\">\n",
       "      <th></th>\n",
       "      <th>url</th>\n",
       "      <th>title</th>\n",
       "      <th>info</th>\n",
       "      <th>pos</th>\n",
       "      <th>follow</th>\n",
       "      <th>tag</th>\n",
       "      <th>price</th>\n",
       "      <th>unitprice</th>\n",
       "      <th>price_num</th>\n",
       "      <th>unitprice_num</th>\n",
       "      <th>xiaoqu</th>\n",
       "      <th>fangxin</th>\n",
       "      <th>area</th>\n",
       "      <th>chaoxiang</th>\n",
       "      <th>zhuangxiu</th>\n",
       "      <th>dianti</th>\n",
       "      <th>ditie_juli</th>\n",
       "      <th>ceng</th>\n",
       "    </tr>\n",
       "  </thead>\n",
       "  <tbody>\n",
       "    <tr>\n",
       "      <th>0</th>\n",
       "      <td>http://bj.lianjia.com/ershoufang/101100762406....</td>\n",
       "      <td>龙泽苑西区两居室，商品房已经满五年，好户型</td>\n",
       "      <td>龙泽苑西区|2室1厅|80.35平米|南北|精装|无电梯</td>\n",
       "      <td>低楼层(共6层)2000年建板楼-龙泽</td>\n",
       "      <td>120人关注/共50次带看/7天以前发布</td>\n",
       "      <td>距离13号线龙泽站428米房本满两年随时看房</td>\n",
       "      <td>460万</td>\n",
       "      <td>单价57250元/平米</td>\n",
       "      <td>460.0</td>\n",
       "      <td>57250.0</td>\n",
       "      <td>龙泽苑西区</td>\n",
       "      <td>2室1厅</td>\n",
       "      <td>80.35</td>\n",
       "      <td>南北</td>\n",
       "      <td>精装</td>\n",
       "      <td>无电梯</td>\n",
       "      <td>428.0</td>\n",
       "      <td>6</td>\n",
       "    </tr>\n",
       "    <tr>\n",
       "      <th>1</th>\n",
       "      <td>http://bj.lianjia.com/ershoufang/101100671982....</td>\n",
       "      <td>新城经典东向大三居，高层观景 视野棒。满五年唯一 ！</td>\n",
       "      <td>望京新城|3室2厅|142.93平米|东南|精装|有电梯</td>\n",
       "      <td>高楼层(共25层)2000年建板塔结合-望京</td>\n",
       "      <td>127人关注/共44次带看/26天以前发布</td>\n",
       "      <td>距离15号线望京站517米房本满两年随时看房</td>\n",
       "      <td>865万</td>\n",
       "      <td>单价60520元/平米</td>\n",
       "      <td>865.0</td>\n",
       "      <td>60520.0</td>\n",
       "      <td>望京新城</td>\n",
       "      <td>3室2厅</td>\n",
       "      <td>142.93</td>\n",
       "      <td>东南</td>\n",
       "      <td>精装</td>\n",
       "      <td>有电梯</td>\n",
       "      <td>517.0</td>\n",
       "      <td>25</td>\n",
       "    </tr>\n",
       "    <tr>\n",
       "      <th>2</th>\n",
       "      <td>http://bj.lianjia.com/ershoufang/101100672915....</td>\n",
       "      <td>东南金角 免税电梯花园洋房 居家养老宜居</td>\n",
       "      <td>东亚上北中心|2室1厅|77平米|东南|精装|有电梯</td>\n",
       "      <td>中楼层(共21层)2009年建板塔结合-回龙观</td>\n",
       "      <td>79人关注/共54次带看/26天以前发布</td>\n",
       "      <td>房本满两年随时看房不限购</td>\n",
       "      <td>306万</td>\n",
       "      <td>单价39741元/平米</td>\n",
       "      <td>306.0</td>\n",
       "      <td>39741.0</td>\n",
       "      <td>东亚上北中心</td>\n",
       "      <td>2室1厅</td>\n",
       "      <td>77.00</td>\n",
       "      <td>东南</td>\n",
       "      <td>精装</td>\n",
       "      <td>有电梯</td>\n",
       "      <td>NaN</td>\n",
       "      <td>21</td>\n",
       "    </tr>\n",
       "    <tr>\n",
       "      <th>3</th>\n",
       "      <td>http://bj.lianjia.com/ershoufang/101100755034....</td>\n",
       "      <td>朝阳园 二期小三居 满五年 高楼层 视野开阔 有钥匙</td>\n",
       "      <td>朝阳园|3室2厅|113.22平米|西|精装|有电梯</td>\n",
       "      <td>高楼层(共29层)2002年建塔楼-甘露园</td>\n",
       "      <td>92人关注/共31次带看/9天以前发布</td>\n",
       "      <td>距离6号线青年路站575米房本满两年随时看房</td>\n",
       "      <td>690万</td>\n",
       "      <td>单价60944元/平米</td>\n",
       "      <td>690.0</td>\n",
       "      <td>60944.0</td>\n",
       "      <td>朝阳园</td>\n",
       "      <td>3室2厅</td>\n",
       "      <td>113.22</td>\n",
       "      <td>西</td>\n",
       "      <td>精装</td>\n",
       "      <td>有电梯</td>\n",
       "      <td>575.0</td>\n",
       "      <td>29</td>\n",
       "    </tr>\n",
       "    <tr>\n",
       "      <th>4</th>\n",
       "      <td>http://bj.lianjia.com/ershoufang/101100656261....</td>\n",
       "      <td>免税  东南双卫三居 带飘窗 随时看房诚意出售</td>\n",
       "      <td>苹果社区南区|3室1厅|124.58平米|东南|精装|有电梯</td>\n",
       "      <td>中楼层(共26层)2006年建板塔结合-双井</td>\n",
       "      <td>79人关注/共50次带看/30天以前发布</td>\n",
       "      <td>距离7号线九龙山站816米房本满两年随时看房</td>\n",
       "      <td>1060万</td>\n",
       "      <td>单价85086元/平米</td>\n",
       "      <td>1060.0</td>\n",
       "      <td>85086.0</td>\n",
       "      <td>苹果社区南区</td>\n",
       "      <td>3室1厅</td>\n",
       "      <td>124.58</td>\n",
       "      <td>东南</td>\n",
       "      <td>精装</td>\n",
       "      <td>有电梯</td>\n",
       "      <td>816.0</td>\n",
       "      <td>26</td>\n",
       "    </tr>\n",
       "  </tbody>\n",
       "</table>\n",
       "</div>"
      ],
      "text/plain": [
       "                                                 url  \\\n",
       "0  http://bj.lianjia.com/ershoufang/101100762406....   \n",
       "1  http://bj.lianjia.com/ershoufang/101100671982....   \n",
       "2  http://bj.lianjia.com/ershoufang/101100672915....   \n",
       "3  http://bj.lianjia.com/ershoufang/101100755034....   \n",
       "4  http://bj.lianjia.com/ershoufang/101100656261....   \n",
       "\n",
       "                        title                            info  \\\n",
       "0       龙泽苑西区两居室，商品房已经满五年，好户型    龙泽苑西区|2室1厅|80.35平米|南北|精装|无电梯   \n",
       "1  新城经典东向大三居，高层观景 视野棒。满五年唯一 ！    望京新城|3室2厅|142.93平米|东南|精装|有电梯   \n",
       "2        东南金角 免税电梯花园洋房 居家养老宜居      东亚上北中心|2室1厅|77平米|东南|精装|有电梯   \n",
       "3  朝阳园 二期小三居 满五年 高楼层 视野开阔 有钥匙      朝阳园|3室2厅|113.22平米|西|精装|有电梯   \n",
       "4     免税  东南双卫三居 带飘窗 随时看房诚意出售  苹果社区南区|3室1厅|124.58平米|东南|精装|有电梯   \n",
       "\n",
       "                       pos                 follow                     tag  \\\n",
       "0      低楼层(共6层)2000年建板楼-龙泽   120人关注/共50次带看/7天以前发布  距离13号线龙泽站428米房本满两年随时看房   \n",
       "1   高楼层(共25层)2000年建板塔结合-望京  127人关注/共44次带看/26天以前发布  距离15号线望京站517米房本满两年随时看房   \n",
       "2  中楼层(共21层)2009年建板塔结合-回龙观   79人关注/共54次带看/26天以前发布            房本满两年随时看房不限购   \n",
       "3    高楼层(共29层)2002年建塔楼-甘露园    92人关注/共31次带看/9天以前发布  距离6号线青年路站575米房本满两年随时看房   \n",
       "4   中楼层(共26层)2006年建板塔结合-双井   79人关注/共50次带看/30天以前发布  距离7号线九龙山站816米房本满两年随时看房   \n",
       "\n",
       "   price    unitprice  price_num  unitprice_num  xiaoqu fangxin    area  \\\n",
       "0   460万  单价57250元/平米      460.0        57250.0   龙泽苑西区    2室1厅   80.35   \n",
       "1   865万  单价60520元/平米      865.0        60520.0    望京新城    3室2厅  142.93   \n",
       "2   306万  单价39741元/平米      306.0        39741.0  东亚上北中心    2室1厅   77.00   \n",
       "3   690万  单价60944元/平米      690.0        60944.0     朝阳园    3室2厅  113.22   \n",
       "4  1060万  单价85086元/平米     1060.0        85086.0  苹果社区南区    3室1厅  124.58   \n",
       "\n",
       "  chaoxiang zhuangxiu dianti  ditie_juli  ceng  \n",
       "0        南北        精装    无电梯       428.0     6  \n",
       "1        东南        精装    有电梯       517.0    25  \n",
       "2        东南        精装    有电梯         NaN    21  \n",
       "3         西        精装    有电梯       575.0    29  \n",
       "4        东南        精装    有电梯       816.0    26  "
      ]
     },
     "execution_count": 170,
     "metadata": {},
     "output_type": "execute_result"
    }
   ],
   "source": [
    "df.head()"
   ]
  },
  {
   "cell_type": "code",
   "execution_count": 177,
   "metadata": {
    "collapsed": false
   },
   "outputs": [],
   "source": [
    "df = pd.read_csv('data/sz_cs_hf.csv', sep='\\t', header=None, names=['url', 'title','info','pos','follow','tag','price','unitprice'])"
   ]
  },
  {
   "cell_type": "code",
   "execution_count": 200,
   "metadata": {
    "collapsed": false,
    "scrolled": false
   },
   "outputs": [],
   "source": [
    "bj = 'http://hz.'\n",
    "df[df.apply(lambda x: x.url[:len(bj)] == bj, axis=1)].to_csv('data/hz.csv')"
   ]
  },
  {
   "cell_type": "code",
   "execution_count": 189,
   "metadata": {
    "collapsed": false
   },
   "outputs": [
    {
     "data": {
      "text/plain": [
       "http://sz.    6150\n",
       "http://hz.    5940\n",
       "http://gz.    5938\n",
       "http://hf.    3810\n",
       "http://cs.    3000\n",
       "http://bj.    3000\n",
       "Name: url, dtype: int64"
      ]
     },
     "execution_count": 189,
     "metadata": {},
     "output_type": "execute_result"
    }
   ],
   "source": [
    "df.url.map(lambda x:x[:len(bj)]).value_counts()"
   ]
  },
  {
   "cell_type": "code",
   "execution_count": 217,
   "metadata": {
    "collapsed": false,
    "scrolled": false
   },
   "outputs": [
    {
     "name": "stdout",
     "output_type": "stream",
     "text": [
      "   Unnamed: 0                                                url  \\\n",
      "0        3000  http://sz.lianjia.com/ershoufang/105100406247....   \n",
      "1        3001  http://sz.lianjia.com/ershoufang/105100448309....   \n",
      "2        3002  http://sz.lianjia.com/ershoufang/105100155267....   \n",
      "3        3003  http://sz.lianjia.com/ershoufang/105100443856....   \n",
      "4        3004  http://sz.lianjia.com/ershoufang/105100451566....   \n",
      "\n",
      "                        title                             info  \\\n",
      "0     宝安碧海大区 3房 满5年 红本在手 拎包入住   碧海富通城二期|3室2厅|115.38平米|南|精装|有电梯   \n",
      "1      福田区大社区一楼带私家花园带省级学校，满五年          新洲花园|3室1厅|90平米|南|精装|无电梯   \n",
      "2       金海燕花园 地铁口 安静舒适4房 明德学位       金海燕花园|4室2厅|127平米|东北|精装|有电梯   \n",
      "3  南溪新苑  楼下吉之岛，地铁口约200米，光线充足。          南溪新苑|1室1厅|42平米|北|简装|有电梯   \n",
      "4   鸿荣源花园社区精装三房满五年，红本在手弘雅文汇学位  弘雅花园雅豪轩三期|3室2厅|82.37平米|南|精装|无电梯   \n",
      "\n",
      "                       pos                 follow  \\\n",
      "0     高楼层(共18层)2007年建塔楼-西乡  109人关注/共54次带看/1个月以前发布   \n",
      "1      低楼层(共8层)1996年建板楼-新洲   82人关注/共58次带看/24天以前发布   \n",
      "2  中楼层(共16层)1997年建板塔结合-华侨城  73人关注/共104次带看/6个月以前发布   \n",
      "3   中楼层(共20层)2005年建板塔结合-新洲   69人关注/共57次带看/26天以前发布   \n",
      "4    中楼层(共8层)2001年建板塔结合-新安   78人关注/共27次带看/22天以前发布   \n",
      "\n",
      "                           tag price    unitprice  \n",
      "0          距离11号线碧海湾站550米房本满两年  630万  单价54603元/平米  \n",
      "1                    房本满两年随时看房  448万  单价49778元/平米  \n",
      "2  距离1号线(罗宝线）侨城东站185米房本满两年随时看房  790万  单价62205元/平米  \n",
      "3   距离3号线(龙岗线)益田站722米房本满两年随时看房  210万  单价50000元/平米  \n",
      "4                    房本满两年随时看房  355万  单价43099元/平米  \n",
      "房屋总价\n",
      "count    6150.000000\n",
      "mean      512.159629\n",
      "std       353.770426\n",
      "min        84.000000\n",
      "25%       310.000000\n",
      "50%       420.000000\n",
      "75%       595.000000\n",
      "max      4500.000000\n",
      "Name: price_num, dtype: float64\n",
      "单价\n",
      "count      6150.000000\n",
      "mean      55813.669268\n",
      "std       17324.065843\n",
      "min       22868.000000\n",
      "25%       43479.000000\n",
      "50%       53192.000000\n",
      "75%       64597.000000\n",
      "max      156811.000000\n",
      "Name: unitprice_num, dtype: float64\n",
      "龙珠花园(布吉)       85\n",
      "国展苑            69\n",
      "泰华阳光海小区        58\n",
      "益田村            57\n",
      "英郡年华           42\n",
      "中海康城国际一期       40\n",
      "荣超花园           39\n",
      "碧海富通城三期        39\n",
      "万科城            31\n",
      "中兆花园           28\n",
      "兴达华府           28\n",
      "碧海名园           27\n",
      "京基御景华城         26\n",
      "碧华庭居           25\n",
      "招商果岭花园         25\n",
      "阳光花园           25\n",
      "佳兆业可园一期二期三期    24\n",
      "桃源村三期          23\n",
      "锦绣江南四期         23\n",
      "丽湖花园二期         23\n",
      "美丽365花园        22\n",
      "风和日丽           21\n",
      "中海怡翠山庄         21\n",
      "碧水龙庭           20\n",
      "桃源盛景园十五区       20\n",
      "中信红树湾南区        20\n",
      "金地名津           20\n",
      "天鹅堡            20\n",
      "中海日辉台          20\n",
      "中信湾上六座         19\n",
      "Name: xiaoqu, dtype: int64\n",
      "南         1913\n",
      "东南        1191\n",
      "西南         593\n",
      "北          572\n",
      "南北         496\n",
      "东北         455\n",
      "西北         331\n",
      "东          280\n",
      "西          141\n",
      "东南南         30\n",
      "东西          29\n",
      "南西南         16\n",
      "东南北         14\n",
      "东南西北        13\n",
      "南西          13\n",
      "西南东北        12\n",
      "北东北          9\n",
      "东南西南         9\n",
      "东南西          6\n",
      "东东北          4\n",
      "东东南南         4\n",
      "东西北          3\n",
      "东西北东北        2\n",
      "东南西南东北       2\n",
      "北南           2\n",
      "西北东北         2\n",
      "南西北          2\n",
      "南北东北         2\n",
      "东南南西南        2\n",
      "西南北          2\n",
      "Name: chaoxiang, dtype: int64\n",
      "count    6150.000000\n",
      "mean       88.417193\n",
      "std        36.673374\n",
      "min        19.050000\n",
      "25%        67.000000\n",
      "50%        82.180000\n",
      "75%       102.000000\n",
      "max       421.440000\n",
      "Name: area, dtype: float64\n",
      "/Library/Python/2.7/site-packages/numpy/lib/function_base.py:3834: RuntimeWarning: Invalid value encountered in percentile\n",
      "  RuntimeWarning)\n",
      "count    4248.000000\n",
      "mean      589.734934\n",
      "std       302.430034\n",
      "min         0.000000\n",
      "25%              NaN\n",
      "50%              NaN\n",
      "75%              NaN\n",
      "max      1200.000000\n",
      "Name: ditie_juli, dtype: float64\n",
      "count    6150.000000\n",
      "mean       20.262602\n",
      "std         9.907450\n",
      "min         1.000000\n",
      "25%        11.000000\n",
      "50%        20.000000\n",
      "75%        30.000000\n",
      "max        49.000000\n",
      "Name: ceng, dtype: float64\n"
     ]
    }
   ],
   "source": [
    "!python analysis.py data/sz.csv"
   ]
  },
  {
   "cell_type": "code",
   "execution_count": 215,
   "metadata": {
    "collapsed": false
   },
   "outputs": [
    {
     "ename": "IndexError",
     "evalue": "list index out of range",
     "output_type": "error",
     "traceback": [
      "\u001b[0;31m---------------------------------------------------------------------------\u001b[0m",
      "\u001b[0;31mIndexError\u001b[0m                                Traceback (most recent call last)",
      "\u001b[0;32m<ipython-input-215-2108e2382966>\u001b[0m in \u001b[0;36m<module>\u001b[0;34m()\u001b[0m\n\u001b[0;32m----> 1\u001b[0;31m \u001b[0;34m[\u001b[0m\u001b[0;36m1\u001b[0m\u001b[0;34m]\u001b[0m\u001b[0;34m.\u001b[0m\u001b[0m__getitem__\u001b[0m\u001b[0;34m(\u001b[0m\u001b[0;36m5\u001b[0m\u001b[0;34m)\u001b[0m\u001b[0;34m\u001b[0m\u001b[0m\n\u001b[0m",
      "\u001b[0;31mIndexError\u001b[0m: list index out of range"
     ]
    }
   ],
   "source": [
    "[1].__getitem__(5)"
   ]
  },
  {
   "cell_type": "code",
   "execution_count": null,
   "metadata": {
    "collapsed": true
   },
   "outputs": [],
   "source": []
  }
 ],
 "metadata": {
  "kernelspec": {
   "display_name": "Python 2",
   "language": "python",
   "name": "python2"
  },
  "language_info": {
   "codemirror_mode": {
    "name": "ipython",
    "version": 2
   },
   "file_extension": ".py",
   "mimetype": "text/x-python",
   "name": "python",
   "nbconvert_exporter": "python",
   "pygments_lexer": "ipython2",
   "version": "2.7.10"
  }
 },
 "nbformat": 4,
 "nbformat_minor": 0
}
